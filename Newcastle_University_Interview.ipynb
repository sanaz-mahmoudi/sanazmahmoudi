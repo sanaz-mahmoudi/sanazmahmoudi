{
  "nbformat": 4,
  "nbformat_minor": 0,
  "metadata": {
    "colab": {
      "provenance": [],
      "collapsed_sections": [
        "0IrTCe2kq5Vq"
      ],
      "authorship_tag": "ABX9TyOH80Covj/rrb3CNFNtuj0d",
      "include_colab_link": true
    },
    "kernelspec": {
      "name": "python3",
      "display_name": "Python 3"
    },
    "language_info": {
      "name": "python"
    }
  },
  "cells": [
    {
      "cell_type": "markdown",
      "metadata": {
        "id": "view-in-github",
        "colab_type": "text"
      },
      "source": [
        "<a href=\"https://colab.research.google.com/github/sanaz-mahmoudi/sanazmahmoudi/blob/main/Newcastle_University_Interview.ipynb\" target=\"_parent\"><img src=\"https://colab.research.google.com/assets/colab-badge.svg\" alt=\"Open In Colab\"/></a>"
      ]
    },
    {
      "cell_type": "markdown",
      "source": [
        "# **Pre Interview Task**"
      ],
      "metadata": {
        "id": "vAgiXuc1qtRs"
      }
    },
    {
      "cell_type": "markdown",
      "source": [
        "## Requirements"
      ],
      "metadata": {
        "id": "p1raUl-l-Tdw"
      }
    },
    {
      "cell_type": "code",
      "source": [
        "# PYOMO\n",
        "!pip install -q pyomo\n",
        "import pyomo.environ as pe\n",
        "\n",
        "# GLPK\n",
        "!apt-get install -y -qq glpk-utils\n",
        "glpk = pe.SolverFactory('glpk', executable='/usr/bin/glpsol')\n",
        "\n",
        "# OTHER\n",
        "import pandas as pd"
      ],
      "metadata": {
        "id": "-B5DyM3g-QVM"
      },
      "execution_count": 6,
      "outputs": []
    },
    {
      "cell_type": "markdown",
      "source": [
        "## Input Data"
      ],
      "metadata": {
        "id": "0IrTCe2kq5Vq"
      }
    },
    {
      "cell_type": "code",
      "source": [
        "print('==============================')\n",
        "print('   Thermal Power Plant Data   ')\n",
        "print('==============================')\n",
        "data_gen = [[0,0,250,50],[1,0,0,0],[2,0,0,0]]\n",
        "ng = len(data_gen)\n",
        "gen = pd.DataFrame(data_gen,index=['g'+str(i) for i in range(ng)],columns=['bus','min','max','o_cost'])\n",
        "print(gen)\n",
        "\n",
        "print('==============================')\n",
        "print('          Line Data           ')\n",
        "print('==============================')\n",
        "data_lin = [[0,1,100],[1,2,100],[0,2,100]]\n",
        "nl = len(data_lin)\n",
        "lin = pd.DataFrame(data_lin,index=['l'+str(i) for i in range(nl)],columns=['from','to','cap'])\n",
        "print(lin)\n",
        "\n",
        "print('==============================')\n",
        "print('  Sulphur-Flow Battery Data   ')\n",
        "print('==============================')\n",
        "data_bat = [[0,0,0,0],[1,0,100,24],[2,0,0,0]]\n",
        "nb = len(data_bat)\n",
        "b = pd.DataFrame(data_bat,index=['b'+str(i) for i in range(nb)],columns=['bus','min','max','b_c'])\n",
        "print(b)\n",
        "\n",
        "print('==============================')\n",
        "print('        Renewable Data        ')\n",
        "print('==============================')\n",
        "data_ren = [[0,0,0,0],[1,0,150,0],[2,0,0,0]]\n",
        "nw = len(data_ren)\n",
        "ren = pd.DataFrame(data_ren,index=['w'+str(i) for i in range(nw)],columns=['bus','min','max','o_cost'])\n",
        "print(ren)\n",
        "\n",
        "print('==============================')\n",
        "print('       Load Demand Data       ')\n",
        "print('==============================')\n",
        "data_dem = pd.read_csv('https://raw.githubusercontent.com/sanaz-mahmoudi/sanazmahmoudi/refs/heads/main/Hourly%20Profiles.csv')\n",
        "print(data_dem.columns.tolist())\n",
        "\n",
        "# Extract Days, Hours, Renewable Generation, Load Demand\n",
        "data_dem['Day'] = data_dem['Time'].str.split('T').str[0].str[-2:]\n",
        "data_dem['Hour'] = data_dem['Time'].str.split('T').str[1].str[:2]\n",
        "\n",
        "# Select the columns you want to keep (Time, Day, Hour, and the 2nd column)\n",
        "cols_to_save = ['Day', 'Hour', 'Normalised Electricity Consumption Profile']\n",
        "\n",
        "data_dem_subset = data_dem[cols_to_save]\n",
        "\n",
        "print(data_dem_subset)\n"
      ],
      "metadata": {
        "colab": {
          "base_uri": "https://localhost:8080/"
        },
        "id": "MFgL7jEntZ1J",
        "outputId": "cb11dab6-aad1-4db4-867f-82dd20d7373c"
      },
      "execution_count": 50,
      "outputs": [
        {
          "output_type": "stream",
          "name": "stdout",
          "text": [
            "==============================\n",
            "   Thermal Power Plant Data   \n",
            "==============================\n",
            "    bus  min  max  o_cost\n",
            "g0    0    0  250      50\n",
            "g1    1    0    0       0\n",
            "g2    2    0    0       0\n",
            "==============================\n",
            "          Line Data           \n",
            "==============================\n",
            "    from  to  cap\n",
            "l0     0   1  100\n",
            "l1     1   2  100\n",
            "l2     0   2  100\n",
            "==============================\n",
            "  Sulphur-Flow Battery Data   \n",
            "==============================\n",
            "    bus  min  max  b_c\n",
            "b0    0    0    0    0\n",
            "b1    1    0  100   24\n",
            "b2    2    0    0    0\n",
            "==============================\n",
            "        Renewable Data        \n",
            "==============================\n",
            "    bus  min  max  o_cost\n",
            "w0    0    0    0       0\n",
            "w1    1    0  150       0\n",
            "w2    2    0    0       0\n",
            "==============================\n",
            "       Load Demand Data       \n",
            "==============================\n",
            "['Time', 'Normalised Renewable Production Profile ', 'Normalised Electricity Consumption Profile']\n",
            "Rows in dataframe: 672\n",
            "['Time', 'Normalised Renewable Production Profile', 'Normalised Electricity Consumption Profile', 'Day', 'Hour']\n",
            "    Day Hour  Normalised Electricity Consumption Profile\n",
            "0    01   00                                    0.191995\n",
            "1    01   01                                    0.155535\n",
            "2    01   02                                    0.106502\n",
            "3    01   03                                    0.078481\n",
            "4    01   04                                    0.077113\n",
            "..   ..  ...                                         ...\n",
            "667  28   19                                    0.698363\n",
            "668  28   20                                    0.625278\n",
            "669  28   21                                    0.495907\n",
            "670  28   22                                    0.342043\n",
            "671  28   23                                    0.262941\n",
            "\n",
            "[672 rows x 3 columns]\n"
          ]
        }
      ]
    },
    {
      "cell_type": "markdown",
      "source": [
        "## PYOMO + GLPK (link)"
      ],
      "metadata": {
        "id": "HEL87ZFY897L"
      }
    },
    {
      "cell_type": "markdown",
      "source": [
        "### *Requirements*"
      ],
      "metadata": {
        "id": "qbuob69prGH0"
      }
    },
    {
      "cell_type": "code",
      "source": [
        "# PYOMO\n",
        "!pip install -q pyomo\n",
        "import pyomo.environ as pe\n",
        "\n",
        "# GLPK\n",
        "!apt-get install -y -qq glpk-utils\n",
        "glpk = pe.SolverFactory('glpk', executable='/usr/bin/glpsol')\n",
        "\n",
        "# OTHER\n",
        "import pandas as pd"
      ],
      "metadata": {
        "colab": {
          "base_uri": "https://localhost:8080/"
        },
        "id": "w5ao61aLrOBL",
        "outputId": "360d3919-a74c-4e1d-bda1-210567b9d474"
      },
      "execution_count": null,
      "outputs": [
        {
          "output_type": "stream",
          "name": "stdout",
          "text": [
            "Requirement already satisfied: pyomo in /usr/local/lib/python3.11/dist-packages (6.9.2)\n",
            "Requirement already satisfied: ply in /usr/local/lib/python3.11/dist-packages (from pyomo) (3.11)\n"
          ]
        }
      ]
    }
  ]
}
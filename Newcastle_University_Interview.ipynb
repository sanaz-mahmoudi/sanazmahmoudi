{
  "nbformat": 4,
  "nbformat_minor": 0,
  "metadata": {
    "colab": {
      "provenance": [],
      "collapsed_sections": [
        "0IrTCe2kq5Vq"
      ],
      "authorship_tag": "ABX9TyMduveYeDNxvW1HUiF4N8X7",
      "include_colab_link": true
    },
    "kernelspec": {
      "name": "python3",
      "display_name": "Python 3"
    },
    "language_info": {
      "name": "python"
    }
  },
  "cells": [
    {
      "cell_type": "markdown",
      "metadata": {
        "id": "view-in-github",
        "colab_type": "text"
      },
      "source": [
        "<a href=\"https://colab.research.google.com/github/sanaz-mahmoudi/sanazmahmoudi/blob/main/Newcastle_University_Interview.ipynb\" target=\"_parent\"><img src=\"https://colab.research.google.com/assets/colab-badge.svg\" alt=\"Open In Colab\"/></a>"
      ]
    },
    {
      "cell_type": "markdown",
      "source": [
        "# **Pre Interview Task**"
      ],
      "metadata": {
        "id": "vAgiXuc1qtRs"
      }
    },
    {
      "cell_type": "markdown",
      "source": [
        "## Requirements"
      ],
      "metadata": {
        "id": "p1raUl-l-Tdw"
      }
    },
    {
      "cell_type": "code",
      "source": [
        "# PYOMO\n",
        "!pip install -q pyomo\n",
        "import pyomo.environ as pe\n",
        "\n",
        "# NUMPY\n",
        "import numpy as np\n",
        "\n",
        "# GLPK\n",
        "!apt-get install -y -qq glpk-utils\n",
        "glpk = pe.SolverFactory('glpk', executable='/usr/bin/glpsol')\n",
        "\n",
        "# OTHER\n",
        "import pandas as pd"
      ],
      "metadata": {
        "id": "-B5DyM3g-QVM",
        "colab": {
          "base_uri": "https://localhost:8080/"
        },
        "outputId": "b2e91716-ab54-4e28-ffa0-21e5be742211"
      },
      "execution_count": 2,
      "outputs": [
        {
          "output_type": "stream",
          "name": "stdout",
          "text": [
            "Selecting previously unselected package libsuitesparseconfig5:amd64.\n",
            "(Reading database ... 126284 files and directories currently installed.)\n",
            "Preparing to unpack .../libsuitesparseconfig5_1%3a5.10.1+dfsg-4build1_amd64.deb ...\n",
            "Unpacking libsuitesparseconfig5:amd64 (1:5.10.1+dfsg-4build1) ...\n",
            "Selecting previously unselected package libamd2:amd64.\n",
            "Preparing to unpack .../libamd2_1%3a5.10.1+dfsg-4build1_amd64.deb ...\n",
            "Unpacking libamd2:amd64 (1:5.10.1+dfsg-4build1) ...\n",
            "Selecting previously unselected package libcolamd2:amd64.\n",
            "Preparing to unpack .../libcolamd2_1%3a5.10.1+dfsg-4build1_amd64.deb ...\n",
            "Unpacking libcolamd2:amd64 (1:5.10.1+dfsg-4build1) ...\n",
            "Selecting previously unselected package libglpk40:amd64.\n",
            "Preparing to unpack .../libglpk40_5.0-1_amd64.deb ...\n",
            "Unpacking libglpk40:amd64 (5.0-1) ...\n",
            "Selecting previously unselected package glpk-utils.\n",
            "Preparing to unpack .../glpk-utils_5.0-1_amd64.deb ...\n",
            "Unpacking glpk-utils (5.0-1) ...\n",
            "Setting up libsuitesparseconfig5:amd64 (1:5.10.1+dfsg-4build1) ...\n",
            "Setting up libamd2:amd64 (1:5.10.1+dfsg-4build1) ...\n",
            "Setting up libcolamd2:amd64 (1:5.10.1+dfsg-4build1) ...\n",
            "Setting up libglpk40:amd64 (5.0-1) ...\n",
            "Setting up glpk-utils (5.0-1) ...\n",
            "Processing triggers for man-db (2.10.2-1) ...\n",
            "Processing triggers for libc-bin (2.35-0ubuntu3.8) ...\n",
            "/sbin/ldconfig.real: /usr/local/lib/libtbbbind_2_0.so.3 is not a symbolic link\n",
            "\n",
            "/sbin/ldconfig.real: /usr/local/lib/libtbbmalloc.so.2 is not a symbolic link\n",
            "\n",
            "/sbin/ldconfig.real: /usr/local/lib/libumf.so.0 is not a symbolic link\n",
            "\n",
            "/sbin/ldconfig.real: /usr/local/lib/libtbb.so.12 is not a symbolic link\n",
            "\n",
            "/sbin/ldconfig.real: /usr/local/lib/libtcm.so.1 is not a symbolic link\n",
            "\n",
            "/sbin/ldconfig.real: /usr/local/lib/libur_adapter_opencl.so.0 is not a symbolic link\n",
            "\n",
            "/sbin/ldconfig.real: /usr/local/lib/libur_adapter_level_zero_v2.so.0 is not a symbolic link\n",
            "\n",
            "/sbin/ldconfig.real: /usr/local/lib/libtcm_debug.so.1 is not a symbolic link\n",
            "\n",
            "/sbin/ldconfig.real: /usr/local/lib/libtbbbind.so.3 is not a symbolic link\n",
            "\n",
            "/sbin/ldconfig.real: /usr/local/lib/libhwloc.so.15 is not a symbolic link\n",
            "\n",
            "/sbin/ldconfig.real: /usr/local/lib/libtbbbind_2_5.so.3 is not a symbolic link\n",
            "\n",
            "/sbin/ldconfig.real: /usr/local/lib/libur_loader.so.0 is not a symbolic link\n",
            "\n",
            "/sbin/ldconfig.real: /usr/local/lib/libur_adapter_level_zero.so.0 is not a symbolic link\n",
            "\n",
            "/sbin/ldconfig.real: /usr/local/lib/libtbbmalloc_proxy.so.2 is not a symbolic link\n",
            "\n"
          ]
        }
      ]
    },
    {
      "cell_type": "markdown",
      "source": [
        "## Input Data"
      ],
      "metadata": {
        "id": "0IrTCe2kq5Vq"
      }
    },
    {
      "cell_type": "code",
      "source": [
        "print('==================================')\n",
        "print('     Thermal Power Plant Data     ')\n",
        "print('==================================')\n",
        "data_gen = [[0,0,250,50]]\n",
        "ng = len(data_gen)\n",
        "gen = pd.DataFrame(data_gen,index=['g'+str(i) for i in range(ng)],columns=['bus','pmin','pmax','o_cost'])\n",
        "print(gen)\n",
        "\n",
        "print('==================================')\n",
        "print('            Line Data             ')\n",
        "print('==================================')\n",
        "data_lin = [[0,1,100],[1,2,100],[0,2,100]]\n",
        "nl = len(data_lin)\n",
        "lin = pd.DataFrame(data_lin,index=['l'+str(i) for i in range(nl)],columns=['from','to','pmax'])\n",
        "print(lin)\n",
        "\n",
        "print('==================================')\n",
        "print('    Sulphur-Flow Battery Data     ')\n",
        "print('==================================')\n",
        "data_bat = [[1,0,100,24]]\n",
        "nb = len(data_bat)\n",
        "b = pd.DataFrame(data_bat,index=['b'+str(i) for i in range(nb)],columns=['bus','pmin','pmax','b_c'])\n",
        "print(b)\n",
        "\n",
        "print('==================================')\n",
        "print('          Renewable Data          ')\n",
        "print('==================================')\n",
        "data_ren = [[1,0,150,0]]\n",
        "nw = len(data_ren)\n",
        "ren = pd.DataFrame(data_ren,index=['w'+str(i) for i in range(nw)],columns=['bus','pmin','pmax','o_cost'])\n",
        "print(ren)\n",
        "\n",
        "print('==================================')\n",
        "print('         Load Demand Data         ')\n",
        "print('==================================')\n",
        "data_dem = [[2,100]]\n",
        "nd = len(data_dem)\n",
        "dem = pd.DataFrame(data_dem,index=['d'+str(i) for i in range(nd)],columns=['bus','pmax'])\n",
        "print(dem)\n",
        "\n",
        "print('==================================')\n",
        "print(' Hourly Demand and Renewable Data ')\n",
        "print('==================================')\n",
        "h_data = pd.read_csv('https://raw.githubusercontent.com/sanaz-mahmoudi/sanazmahmoudi/refs/heads/main/Hourly%20Profiles.csv')\n",
        "\n",
        "# Extract Days, Hours, Renewable Production, Consumption\n",
        "h_data['day']  = h_data['Time'].str.split('T').str[0].str[-2:]\n",
        "h_data['hour'] = h_data['Time'].str.split('T').str[1].str[:2]\n",
        "h_data['prod'] = h_data['Normalised Renewable Production Profile']\n",
        "h_data['cons'] = h_data['Normalised Electricity Consumption Profile']\n",
        "\n",
        "# Create DataFrame for Hourly Load Demand\n",
        "h_dem_b = pd.DataFrame(np.outer(h_data['cons'].values, dem['pmax'].values), columns=dem['bus'])   # Determine the Hourly Demand Profile of each Bus\n",
        "h_dem_b['day']  = h_data['day'].values                                                           # Add Day from h_data\n",
        "h_dem_b['hour'] = h_data['hour'].values                                                          # Add Hour from h_data\n",
        "h_dem = h_dem_b.melt(id_vars=['day', 'hour'], var_name='bus', value_name='dem')                  # Melt into the Desired Format\n",
        "print('Hourly Load Demand =\\n', h_dem)\n",
        "\n",
        "# Create DataFrame for Hourly Renewable Generation\n",
        "h_ren_b = pd.DataFrame(np.outer(h_data['prod'].values, ren['pmax'].values), columns=ren['bus'])   # Determine the Hourly Renewable Generation Profile of each Bus\n",
        "h_ren_b['day']  = h_data['day'].values                                                           # Add Day from h_data\n",
        "h_ren_b['hour'] = h_data['hour'].values                                                          # Add Hour from h_data\n",
        "h_ren = h_ren_b.melt(id_vars=['day', 'hour'], var_name='bus', value_name='gen')                  # Melt into the Desired Format\n",
        "print('Hourly Renewable Generation =\\n',h_ren)"
      ],
      "metadata": {
        "colab": {
          "base_uri": "https://localhost:8080/"
        },
        "id": "MFgL7jEntZ1J",
        "outputId": "c2e4fe33-5e11-45bf-ecc5-e124edb0dd70"
      },
      "execution_count": 11,
      "outputs": [
        {
          "output_type": "stream",
          "name": "stdout",
          "text": [
            "==================================\n",
            "     Thermal Power Plant Data     \n",
            "==================================\n",
            "    bus  pmin  pmax  o_cost\n",
            "g0    0     0   250      50\n",
            "==================================\n",
            "            Line Data             \n",
            "==================================\n",
            "    from  to  pmax\n",
            "l0     0   1   100\n",
            "l1     1   2   100\n",
            "l2     0   2   100\n",
            "==================================\n",
            "    Sulphur-Flow Battery Data     \n",
            "==================================\n",
            "    bus  pmin  pmax  b_c\n",
            "b0    1     0   100   24\n",
            "==================================\n",
            "          Renewable Data          \n",
            "==================================\n",
            "    bus  pmin  pmax  o_cost\n",
            "w0    1     0   150       0\n",
            "==================================\n",
            "         Load Demand Data         \n",
            "==================================\n",
            "    bus  pmax\n",
            "d0    2   100\n",
            "==================================\n",
            " Hourly Demand and Renewable Data \n",
            "==================================\n",
            "Hourly Load Demand =\n",
            "     day hour bus        dem\n",
            "0    01   00   2  19.199484\n",
            "1    01   01   2  15.553450\n",
            "2    01   02   2  10.650177\n",
            "3    01   03   2   7.848147\n",
            "4    01   04   2   7.711271\n",
            "..   ..  ...  ..        ...\n",
            "667  28   19   2  69.836309\n",
            "668  28   20   2  62.527832\n",
            "669  28   21   2  49.590679\n",
            "670  28   22   2  34.204314\n",
            "671  28   23   2  26.294096\n",
            "\n",
            "[672 rows x 4 columns]\n",
            "Hourly Renewable Generation =\n",
            "     day hour bus        gen\n",
            "0    01   00   1  24.037267\n",
            "1    01   01   1  27.078261\n",
            "2    01   02   1  34.188820\n",
            "3    01   03   1  42.939130\n",
            "4    01   04   1  47.105590\n",
            "..   ..  ...  ..        ...\n",
            "667  28   19   1  45.600000\n",
            "668  28   20   1  47.142857\n",
            "669  28   21   1  51.078261\n",
            "670  28   22   1  53.031056\n",
            "671  28   23   1  55.140373\n",
            "\n",
            "[672 rows x 4 columns]\n"
          ]
        }
      ]
    },
    {
      "cell_type": "markdown",
      "source": [
        "## Optimization Model"
      ],
      "metadata": {
        "id": "zi5fCwh6uPmc"
      }
    },
    {
      "cell_type": "code",
      "source": [
        "# Model\n",
        "m = pe.ConcreteModel()\n",
        "\n",
        "# Sets\n",
        "m.g = pe.Set(initialize=gen.index.tolist())\n",
        "m.w = pe.Set(initialize=list(range(nw)))\n",
        "m.d = pe.Set(initialize=list(range(nd)))\n",
        "m.td = pe.Set(initialize=list(h_data['day'].unique()))\n",
        "m.th = pe.Set(initialize=list(h_data['hour'].unique()))\n",
        "m.n = pe.Set(initialize=list(range(nb)))\n",
        "m.l = pe.Set(initialize=list(range(nl)))\n",
        "\n",
        "# Variables\n",
        "m.pg = pe.Var(m.g,m.td,m.th,within=pe.NonNegativeReals)         # Generation\n",
        "m.pw = pe.Var(m.w,m.td,m.th,within=pe.NonNegativeReals)\n",
        "m.pds = pe.Var(m.d,m.td,m.th,within=pe.Binary)                  # Demand Shedding\n",
        "m.prs = pe.Var(m.w,m.td,m.th,within=pe.NonNegativeReals)        # Renewable Shedding\n",
        "m.pl = pe.Var(m.l,m.td,m.th,within=pe.Reals)                    # Active Power\n",
        "\n",
        "# Objective function\n",
        "def obj_rule(m):\n",
        "  return sum(gen.loc[g,'o_cost']*m.pg[g,td,th] for g in m.g for td in m.td for th in m.th)\n",
        "m.obj = pe.Objective(rule=obj_rule)\n",
        "\n",
        "# Constraints\n",
        "# Energy balance\n",
        "def bal_rule(m,n,td,th):\n",
        "  return sum(m.pg[g,td,th] for g in m.g if gen['bus'][g] == n) + \\\n",
        "         sum(m.pw[w,td,th] for w in m.w if ren['bus'][w] == n) + \\\n",
        "         sum(m.pl[l,td,th] for l in m.l if lin['to'][l] == n) == \\\n",
        "         sum(m.pl[l,td,th] for l in m.l if lin['from'][l] == n) + \\\n",
        "         sum(h_dem.loc[d,'cons'] for d in m.d if h_dem['bus'][d] == n)\n",
        "m.bal = pe.Constraint(m.n, m.td, m.th, rule=bal_rule)\n",
        "\n",
        "# Minimum Thermal Generation Capacity\n",
        "def min_gen_rule(m,g,td,th):\n",
        "    return m.pg[g,td,th] >= gen['pmin'][g]\n",
        "m.min_gen = pe.Constraint(m.g, m.td, m.th, rule=min_gen_rule)\n",
        "\n",
        "# Minimum Renewable Generation Capacity\n",
        "def min_ren_rule(m,w,td,th):\n",
        "    return m.pw[w,td,th] >= ren['pmin'][w]\n",
        "m.min_ren = pe.Constraint(m.w, m.td, m.th, rule=min_ren_rule)\n",
        "\n",
        "# Minimum Line Flow\n",
        "def min_flow_rule(m,l,td,th):\n",
        "    return m.pl[l,td,th] >= -lin['pmax'][l]\n",
        "m.min_flow = pe.Constraint(m.l, m.td, m.th, rule=min_flow_rule)\n",
        "\n",
        "# Maximum Thermal Generation Capacity\n",
        "def max_gen_rule(m,g,td,th):\n",
        "    return m.pg[g,td,th] <= gen['pmax'][g]\n",
        "m.max_gen = pe.Constraint(m.g, m.td,  m.th, rule=max_gen_rule)\n",
        "\n",
        "# Maximum Renewable Generation Capacity\n",
        "def max_ren_rule(m,w,td,th):\n",
        "    return m.pw[w,td,th] <= ren['pmax'][w]\n",
        "m.max_ren = pe.Constraint(m.w, m.td, m.th, rule=max_ren_rule)\n",
        "\n",
        "# Maximum Line Flow\n",
        "def max_flow_rule(m,l,td,th):\n",
        "    return m.pl[l,td,th] <= lin['pmax'][l]\n",
        "m.max_flow = pe.Constraint(m.l, m.td, m.th, rule=max_flow_rule)\n",
        "\n",
        "\n",
        "\n",
        "# Solve problem using GLPK solver\n",
        "glpk.solve(m).write()\n",
        "\n",
        "# Print results\n",
        "#print('x1 =',m.x1.value)\n",
        "#print('x2 =',m.x2.value)\n",
        "print('Optimal Value =',m.obj())"
      ],
      "metadata": {
        "colab": {
          "base_uri": "https://localhost:8080/"
        },
        "id": "amjOOQOJuVZt",
        "outputId": "ba2768d0-0bac-4bb6-a5ec-1b56293cc962"
      },
      "execution_count": 13,
      "outputs": [
        {
          "output_type": "stream",
          "name": "stdout",
          "text": [
            "# ==========================================================\n",
            "# = Solver Results                                         =\n",
            "# ==========================================================\n",
            "# ----------------------------------------------------------\n",
            "#   Problem Information\n",
            "# ----------------------------------------------------------\n",
            "Problem: \n",
            "- Name: unknown\n",
            "  Lower bound: 0.0\n",
            "  Upper bound: 0.0\n",
            "  Number of objectives: 1\n",
            "  Number of constraints: 3360\n",
            "  Number of variables: 2688\n",
            "  Number of nonzeros: 4704\n",
            "  Sense: minimize\n",
            "# ----------------------------------------------------------\n",
            "#   Solver Information\n",
            "# ----------------------------------------------------------\n",
            "Solver: \n",
            "- Status: ok\n",
            "  Termination condition: optimal\n",
            "  Statistics: \n",
            "    Branch and bound: \n",
            "      Number of bounded subproblems: 0\n",
            "      Number of created subproblems: 0\n",
            "  Error rc: 0\n",
            "  Time: 0.01966404914855957\n",
            "# ----------------------------------------------------------\n",
            "#   Solution Information\n",
            "# ----------------------------------------------------------\n",
            "Solution: \n",
            "- number of solutions: 0\n",
            "  number of solutions displayed: 0\n",
            "Optimal Value = 0.0\n"
          ]
        },
        {
          "output_type": "stream",
          "name": "stderr",
          "text": [
            "/tmp/ipython-input-48328029.py:29: FutureWarning: Series.__getitem__ treating keys as positions is deprecated. In a future version, integer keys will always be treated as labels (consistent with DataFrame behavior). To access a value by position, use `ser.iloc[pos]`\n",
            "  sum(m.pw[w,td,th] for w in m.w if ren['bus'][w] == n) + \\\n",
            "/tmp/ipython-input-48328029.py:30: FutureWarning: Series.__getitem__ treating keys as positions is deprecated. In a future version, integer keys will always be treated as labels (consistent with DataFrame behavior). To access a value by position, use `ser.iloc[pos]`\n",
            "  sum(m.pl[l,td,th] for l in m.l if lin['to'][l] == n) == \\\n",
            "/tmp/ipython-input-48328029.py:31: FutureWarning: Series.__getitem__ treating keys as positions is deprecated. In a future version, integer keys will always be treated as labels (consistent with DataFrame behavior). To access a value by position, use `ser.iloc[pos]`\n",
            "  sum(m.pl[l,td,th] for l in m.l if lin['from'][l] == n) + \\\n",
            "/tmp/ipython-input-48328029.py:42: FutureWarning: Series.__getitem__ treating keys as positions is deprecated. In a future version, integer keys will always be treated as labels (consistent with DataFrame behavior). To access a value by position, use `ser.iloc[pos]`\n",
            "  return m.pw[w,td,th] >= ren['pmin'][w]\n",
            "/tmp/ipython-input-48328029.py:52: FutureWarning: Series.__getitem__ treating keys as positions is deprecated. In a future version, integer keys will always be treated as labels (consistent with DataFrame behavior). To access a value by position, use `ser.iloc[pos]`\n",
            "  return m.pw[w,td,th] <= ren['pmax'][w]\n"
          ]
        }
      ]
    }
  ]
}
{
  "nbformat": 4,
  "nbformat_minor": 0,
  "metadata": {
    "colab": {
      "provenance": [],
      "collapsed_sections": [
        "0IrTCe2kq5Vq"
      ],
      "authorship_tag": "ABX9TyPRwVGXt+zkQJRdve/zmDif",
      "include_colab_link": true
    },
    "kernelspec": {
      "name": "python3",
      "display_name": "Python 3"
    },
    "language_info": {
      "name": "python"
    }
  },
  "cells": [
    {
      "cell_type": "markdown",
      "metadata": {
        "id": "view-in-github",
        "colab_type": "text"
      },
      "source": [
        "<a href=\"https://colab.research.google.com/github/sanaz-mahmoudi/sanazmahmoudi/blob/main/Newcastle_University_Interview.ipynb\" target=\"_parent\"><img src=\"https://colab.research.google.com/assets/colab-badge.svg\" alt=\"Open In Colab\"/></a>"
      ]
    },
    {
      "cell_type": "markdown",
      "source": [
        "# **Pre Interview Task**"
      ],
      "metadata": {
        "id": "vAgiXuc1qtRs"
      }
    },
    {
      "cell_type": "markdown",
      "source": [
        "## Requirements"
      ],
      "metadata": {
        "id": "p1raUl-l-Tdw"
      }
    },
    {
      "cell_type": "code",
      "source": [
        "# PYOMO\n",
        "!pip install -q pyomo\n",
        "import pyomo.environ as pe\n",
        "\n",
        "# GLPK\n",
        "!apt-get install -y -qq glpk-utils\n",
        "glpk = pe.SolverFactory('glpk', executable='/usr/bin/glpsol')\n",
        "\n",
        "# OTHER\n",
        "import pandas as pd"
      ],
      "metadata": {
        "id": "-B5DyM3g-QVM"
      },
      "execution_count": 6,
      "outputs": []
    },
    {
      "cell_type": "markdown",
      "source": [
        "## Input Data"
      ],
      "metadata": {
        "id": "0IrTCe2kq5Vq"
      }
    },
    {
      "cell_type": "code",
      "source": [
        "print('==============================')\n",
        "print('   Thermal Power Plant Data   ')\n",
        "print('==============================')\n",
        "data_gen = [[0,0,250,50],[1,0,0,0],[2,0,0,0]]\n",
        "ng = len(data_gen)\n",
        "gen = pd.DataFrame(data_gen,index=['g'+str(i) for i in range(ng)],columns=['bus','min','max','o_cost'])\n",
        "print(gen)\n",
        "\n",
        "print('==============================')\n",
        "print('          Line Data           ')\n",
        "print('==============================')\n",
        "data_lin = [[0,1,100],[1,2,100],[0,2,100]]\n",
        "nl = len(data_lin)\n",
        "lin = pd.DataFrame(data_lin,index=['l'+str(i) for i in range(nl)],columns=['from','to','cap'])\n",
        "print(lin)\n",
        "\n",
        "print('==============================')\n",
        "print('  Sulphur-Flow Battery Data   ')\n",
        "print('==============================')\n",
        "data_bat = [[0,0,0,0],[1,0,100,24],[2,0,0,0]]\n",
        "nb = len(data_bat)\n",
        "b = pd.DataFrame(data_bat,index=['b'+str(i) for i in range(nb)],columns=['bus','min','max','b_c'])\n",
        "print(b)\n",
        "\n",
        "print('==============================')\n",
        "print('        Renewable Data        ')\n",
        "print('==============================')\n",
        "data_ren = [[0,0,0,0],[1,0,150,0],[2,0,0,0]]\n",
        "nw = len(data_ren)\n",
        "ren = pd.DataFrame(data_ren,index=['w'+str(i) for i in range(nw)],columns=['bus','min','max','o_cost'])\n",
        "print(ren)\n",
        "\n",
        "print('==============================')\n",
        "print('       Load Demand Data       ')\n",
        "print('==============================')\n",
        "data_dem = [[49.4, 105.81, 0.0], [146.81, 159.56, 0.0], [104.2, 148.69, 0.0], [222.75, 134.48, 0.0], [61.84, 163.19, 0.0], [65.81, 102.29, 0.0], [177.4, 160.33, 0.0], [9.66, 136.83, 0.0], [29.6, 141.61, 0.0], [186.57, 161.3, 0.0], [127.28, 115.28, 0.0], [248.79, 141.13, 0.0], [46.01, 114.35, 0.0], [148.17, 117.66, 0.0], [131.89, 153.54, 0.0], [75.98, 165.17, 0.0], [184.68, 129.26, 0.0], [102.42, 156.23, 0.0], [89.28, 176.49, 0.0], [183.79, 148.23, 0.0], [111.95, 158.81, 0.0], [61.15, 102.98, 0.0], [174.65, 107.03, 0.0], [168.12, 124.58, 0.0]]\n",
        "nt = len(data_dem)\n",
        "nb = len(data_dem[0])\n",
        "dem = pd.DataFrame(data_dem,index=['t'+str(i) for i in range(nt)],columns=['b'+str(i) for i in range(nb)])\n",
        "print(dem)\n",
        "\n",
        "data_dem = pd.read_csv('https://raw.githubusercontent.com/sanaz-mahmoudi/sanazmahmoudi/refs/heads/main/Hourly%20Profiles.csv')\n",
        "\n",
        "# Extract Days, Hours, Renewable Generation, Load Demand\n",
        "data_dem['Day'] = data_dem['Time'].str.split('T').str[0].str[-2:]\n",
        "data_dem['Hour'] = data_dem['Time'].str.split('T').str[1].str[:2]\n",
        "\n",
        "print(data_dem[['Day', 'Hour']].head())\n"
      ],
      "metadata": {
        "colab": {
          "base_uri": "https://localhost:8080/"
        },
        "id": "MFgL7jEntZ1J",
        "outputId": "26cec57b-1c2d-46cf-9447-683a220eabe0"
      },
      "execution_count": 32,
      "outputs": [
        {
          "output_type": "stream",
          "name": "stdout",
          "text": [
            "==============================\n",
            "   Thermal Power Plant Data   \n",
            "==============================\n",
            "    bus  min  max  o_cost\n",
            "g0    0    0  250      50\n",
            "g1    1    0    0       0\n",
            "g2    2    0    0       0\n",
            "==============================\n",
            "        Renewable Data        \n",
            "==============================\n",
            "    bus  min  max  o_cost\n",
            "w0    0    0    0       0\n",
            "w1    1    0  150       0\n",
            "w2    2    0    0       0\n",
            "==============================\n",
            "  Sulphur-Flow Battery Data   \n",
            "==============================\n",
            "    bus  min  max  b_c\n",
            "b0    0    0    0    0\n",
            "b1    1    0  100   24\n",
            "b2    2    0    0    0\n",
            "==============================\n",
            "          Line Data           \n",
            "==============================\n",
            "    from  to  cap\n",
            "l0     0   1  100\n",
            "l1     1   2  100\n",
            "l2     0   2  100\n",
            "==============================\n",
            "          Demand Data         \n",
            "==============================\n",
            "         b0      b1   b2\n",
            "t0    49.40  105.81  0.0\n",
            "t1   146.81  159.56  0.0\n",
            "t2   104.20  148.69  0.0\n",
            "t3   222.75  134.48  0.0\n",
            "t4    61.84  163.19  0.0\n",
            "t5    65.81  102.29  0.0\n",
            "t6   177.40  160.33  0.0\n",
            "t7     9.66  136.83  0.0\n",
            "t8    29.60  141.61  0.0\n",
            "t9   186.57  161.30  0.0\n",
            "t10  127.28  115.28  0.0\n",
            "t11  248.79  141.13  0.0\n",
            "t12   46.01  114.35  0.0\n",
            "t13  148.17  117.66  0.0\n",
            "t14  131.89  153.54  0.0\n",
            "t15   75.98  165.17  0.0\n",
            "t16  184.68  129.26  0.0\n",
            "t17  102.42  156.23  0.0\n",
            "t18   89.28  176.49  0.0\n",
            "t19  183.79  148.23  0.0\n",
            "t20  111.95  158.81  0.0\n",
            "t21   61.15  102.98  0.0\n",
            "t22  174.65  107.03  0.0\n",
            "t23  168.12  124.58  0.0\n",
            "  Day Hour\n",
            "0  01   00\n",
            "1  01   01\n",
            "2  01   02\n",
            "3  01   03\n",
            "4  01   04\n"
          ]
        }
      ]
    },
    {
      "cell_type": "markdown",
      "source": [
        "## PYOMO + GLPK (link)"
      ],
      "metadata": {
        "id": "HEL87ZFY897L"
      }
    },
    {
      "cell_type": "markdown",
      "source": [
        "### *Requirements*"
      ],
      "metadata": {
        "id": "qbuob69prGH0"
      }
    },
    {
      "cell_type": "code",
      "source": [
        "# PYOMO\n",
        "!pip install -q pyomo\n",
        "import pyomo.environ as pe\n",
        "\n",
        "# GLPK\n",
        "!apt-get install -y -qq glpk-utils\n",
        "glpk = pe.SolverFactory('glpk', executable='/usr/bin/glpsol')\n",
        "\n",
        "# OTHER\n",
        "import pandas as pd"
      ],
      "metadata": {
        "colab": {
          "base_uri": "https://localhost:8080/"
        },
        "id": "w5ao61aLrOBL",
        "outputId": "360d3919-a74c-4e1d-bda1-210567b9d474"
      },
      "execution_count": null,
      "outputs": [
        {
          "output_type": "stream",
          "name": "stdout",
          "text": [
            "Requirement already satisfied: pyomo in /usr/local/lib/python3.11/dist-packages (6.9.2)\n",
            "Requirement already satisfied: ply in /usr/local/lib/python3.11/dist-packages (from pyomo) (3.11)\n"
          ]
        }
      ]
    }
  ]
}
{
  "nbformat": 4,
  "nbformat_minor": 0,
  "metadata": {
    "colab": {
      "provenance": [],
      "collapsed_sections": [
        "0IrTCe2kq5Vq"
      ],
      "authorship_tag": "ABX9TyMJHmn2LtLzuDrrB3uH3uSU",
      "include_colab_link": true
    },
    "kernelspec": {
      "name": "python3",
      "display_name": "Python 3"
    },
    "language_info": {
      "name": "python"
    }
  },
  "cells": [
    {
      "cell_type": "markdown",
      "metadata": {
        "id": "view-in-github",
        "colab_type": "text"
      },
      "source": [
        "<a href=\"https://colab.research.google.com/github/sanaz-mahmoudi/sanazmahmoudi/blob/main/Newcastle_University_Interview.ipynb\" target=\"_parent\"><img src=\"https://colab.research.google.com/assets/colab-badge.svg\" alt=\"Open In Colab\"/></a>"
      ]
    },
    {
      "cell_type": "markdown",
      "source": [
        "# **Pre Interview Task**"
      ],
      "metadata": {
        "id": "vAgiXuc1qtRs"
      }
    },
    {
      "cell_type": "markdown",
      "source": [
        "## Requirements"
      ],
      "metadata": {
        "id": "p1raUl-l-Tdw"
      }
    },
    {
      "cell_type": "code",
      "source": [
        "# PYOMO\n",
        "!pip install -q pyomo\n",
        "import pyomo.environ as pe\n",
        "\n",
        "# NUMPY\n",
        "import numpy as np\n",
        "\n",
        "# GLPK\n",
        "!apt-get install -y -qq glpk-utils\n",
        "glpk = pe.SolverFactory('glpk', executable='/usr/bin/glpsol')\n",
        "\n",
        "# OTHER\n",
        "import pandas as pd"
      ],
      "metadata": {
        "id": "-B5DyM3g-QVM"
      },
      "execution_count": 61,
      "outputs": []
    },
    {
      "cell_type": "markdown",
      "source": [
        "## Input Data"
      ],
      "metadata": {
        "id": "0IrTCe2kq5Vq"
      }
    },
    {
      "cell_type": "code",
      "source": [
        "print('==================================')\n",
        "print('     Thermal Power Plant Data     ')\n",
        "print('==================================')\n",
        "data_gen = [[0,0,250,50]]\n",
        "ng = len(data_gen)\n",
        "gen = pd.DataFrame(data_gen,index=['g'+str(i) for i in range(ng)],columns=['bus','min','max','o_cost'])\n",
        "print(gen)\n",
        "\n",
        "print('==================================')\n",
        "print('            Line Data             ')\n",
        "print('==================================')\n",
        "data_lin = [[0,1,100],[1,2,100],[0,2,100]]\n",
        "nl = len(data_lin)\n",
        "lin = pd.DataFrame(data_lin,index=['l'+str(i) for i in range(nl)],columns=['from','to','cap'])\n",
        "print(lin)\n",
        "\n",
        "print('==================================')\n",
        "print('    Sulphur-Flow Battery Data     ')\n",
        "print('==================================')\n",
        "data_bat = [[1,0,100,24]]\n",
        "nb = len(data_bat)\n",
        "b = pd.DataFrame(data_bat,index=['b'+str(i) for i in range(nb)],columns=['bus','min','max','b_c'])\n",
        "print(b)\n",
        "\n",
        "print('==================================')\n",
        "print('          Renewable Data          ')\n",
        "print('==================================')\n",
        "data_ren = [[1,0,150,0]]\n",
        "nw = len(data_ren)\n",
        "ren = pd.DataFrame(data_ren,index=['w'+str(i) for i in range(nw)],columns=['bus','min','max','o_cost'])\n",
        "print(ren)\n",
        "\n",
        "print('==================================')\n",
        "print('         Load Demand Data         ')\n",
        "print('==================================')\n",
        "data_dem = [[2,100]]\n",
        "nd = len(data_dem)\n",
        "dem = pd.DataFrame(data_dem,index=['d'+str(i) for i in range(nd)],columns=['bus','max'])\n",
        "print(dem)\n",
        "\n",
        "print('==================================')\n",
        "print(' Hourly Demand and Renewable Data ')\n",
        "print('==================================')\n",
        "h_data = pd.read_csv('https://raw.githubusercontent.com/sanaz-mahmoudi/sanazmahmoudi/refs/heads/main/Hourly%20Profiles.csv')\n",
        "\n",
        "# Extract Days, Hours, Renewable Production, Consumption\n",
        "h_data['day']  = h_data['Time'].str.split('T').str[0].str[-2:]\n",
        "h_data['hour'] = h_data['Time'].str.split('T').str[1].str[:2]\n",
        "h_data['prod'] = h_data['Normalised Renewable Production Profile']\n",
        "h_data['cons'] = h_data['Normalised Electricity Consumption Profile']\n",
        "\n",
        "# Create DataFrame for Hourly Load Demand\n",
        "h_dem_b = pd.DataFrame(np.outer(h_data['cons'].values, dem['max'].values), columns=dem['bus'])   # Determine the Hourly Demand Profile of each Bus\n",
        "h_dem_b['day']  = h_data['day'].values                                                           # Add Day from h_data\n",
        "h_dem_b['hour'] = h_data['hour'].values                                                          # Add Hour from h_data\n",
        "h_dem = h_dem_b.melt(id_vars=['day', 'hour'], var_name='bus', value_name='dem')                  # Melt into the Desired Format\n",
        "print('Hourly Load Demand =\\n', h_dem)\n",
        "\n",
        "# Create DataFrame for Hourly Renewable Generation\n",
        "h_ren_b = pd.DataFrame(np.outer(h_data['prod'].values, ren['max'].values), columns=ren['bus'])   # Determine the Hourly Renewable Generation Profile of each Bus\n",
        "h_ren_b['day']  = h_data['day'].values                                                           # Add Day from h_data\n",
        "h_ren_b['hour'] = h_data['hour'].values                                                          # Add Hour from h_data\n",
        "h_ren = h_ren_b.melt(id_vars=['day', 'hour'], var_name='bus', value_name='gen')                  # Melt into the Desired Format\n",
        "print('Hourly Renewable Generation =\\n',h_ren)\n",
        "\n"
      ],
      "metadata": {
        "colab": {
          "base_uri": "https://localhost:8080/"
        },
        "id": "MFgL7jEntZ1J",
        "outputId": "0629b533-d4ae-4cfe-9520-9803d65de261"
      },
      "execution_count": 100,
      "outputs": [
        {
          "output_type": "stream",
          "name": "stdout",
          "text": [
            "==================================\n",
            "     Thermal Power Plant Data     \n",
            "==================================\n",
            "    bus  min  max  o_cost\n",
            "g0    0    0  250      50\n",
            "==================================\n",
            "            Line Data             \n",
            "==================================\n",
            "    from  to  cap\n",
            "l0     0   1  100\n",
            "l1     1   2  100\n",
            "l2     0   2  100\n",
            "==================================\n",
            "    Sulphur-Flow Battery Data     \n",
            "==================================\n",
            "    bus  min  max  b_c\n",
            "b0    1    0  100   24\n",
            "==================================\n",
            "          Renewable Data          \n",
            "==================================\n",
            "    bus  min  max  o_cost\n",
            "w0    1    0  150       0\n",
            "==================================\n",
            "         Load Demand Data         \n",
            "==================================\n",
            "    bus  max\n",
            "d0    2  100\n",
            "==================================\n",
            " Hourly Demand and Renewable Data \n",
            "==================================\n",
            "Hourly Load Demand =\n",
            "     day hour bus        dem\n",
            "0    01   00   2  19.199484\n",
            "1    01   01   2  15.553450\n",
            "2    01   02   2  10.650177\n",
            "3    01   03   2   7.848147\n",
            "4    01   04   2   7.711271\n",
            "..   ..  ...  ..        ...\n",
            "667  28   19   2  69.836309\n",
            "668  28   20   2  62.527832\n",
            "669  28   21   2  49.590679\n",
            "670  28   22   2  34.204314\n",
            "671  28   23   2  26.294096\n",
            "\n",
            "[672 rows x 4 columns]\n",
            "Hourly Renewable Generation =\n",
            "     day hour bus        gen\n",
            "0    01   00   1  24.037267\n",
            "1    01   01   1  27.078261\n",
            "2    01   02   1  34.188820\n",
            "3    01   03   1  42.939130\n",
            "4    01   04   1  47.105590\n",
            "..   ..  ...  ..        ...\n",
            "667  28   19   1  45.600000\n",
            "668  28   20   1  47.142857\n",
            "669  28   21   1  51.078261\n",
            "670  28   22   1  53.031056\n",
            "671  28   23   1  55.140373\n",
            "\n",
            "[672 rows x 4 columns]\n"
          ]
        }
      ]
    }
  ]
}
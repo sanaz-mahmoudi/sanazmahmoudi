{
  "nbformat": 4,
  "nbformat_minor": 0,
  "metadata": {
    "colab": {
      "provenance": [],
      "collapsed_sections": [
        "0IrTCe2kq5Vq"
      ],
      "authorship_tag": "ABX9TyP607ZpWeqoq7kZIcLA6wON",
      "include_colab_link": true
    },
    "kernelspec": {
      "name": "python3",
      "display_name": "Python 3"
    },
    "language_info": {
      "name": "python"
    }
  },
  "cells": [
    {
      "cell_type": "markdown",
      "metadata": {
        "id": "view-in-github",
        "colab_type": "text"
      },
      "source": [
        "<a href=\"https://colab.research.google.com/github/sanaz-mahmoudi/sanazmahmoudi/blob/main/Newcastle_University_Interview.ipynb\" target=\"_parent\"><img src=\"https://colab.research.google.com/assets/colab-badge.svg\" alt=\"Open In Colab\"/></a>"
      ]
    },
    {
      "cell_type": "markdown",
      "source": [
        "# **Pre Interview Task**"
      ],
      "metadata": {
        "id": "vAgiXuc1qtRs"
      }
    },
    {
      "cell_type": "markdown",
      "source": [
        "## Requirements"
      ],
      "metadata": {
        "id": "p1raUl-l-Tdw"
      }
    },
    {
      "cell_type": "code",
      "source": [
        "# PYOMO\n",
        "!pip install -q pyomo\n",
        "import pyomo.environ as pe\n",
        "\n",
        "# NUMPY\n",
        "import numpy as np\n",
        "\n",
        "# GLPK\n",
        "!apt-get install -y -qq glpk-utils\n",
        "glpk = pe.SolverFactory('glpk', executable='/usr/bin/glpsol')\n",
        "\n",
        "# OTHER\n",
        "import pandas as pd"
      ],
      "metadata": {
        "id": "-B5DyM3g-QVM"
      },
      "execution_count": 61,
      "outputs": []
    },
    {
      "cell_type": "markdown",
      "source": [
        "## Input Data"
      ],
      "metadata": {
        "id": "0IrTCe2kq5Vq"
      }
    },
    {
      "cell_type": "code",
      "source": [
        "print('==============================')\n",
        "print('   Thermal Power Plant Data   ')\n",
        "print('==============================')\n",
        "data_gen = [[0,0,250,50]]\n",
        "ng = len(data_gen)\n",
        "gen = pd.DataFrame(data_gen,index=['g'+str(i) for i in range(ng)],columns=['bus','min','max','o_cost'])\n",
        "print(gen)\n",
        "\n",
        "print('==============================')\n",
        "print('          Line Data           ')\n",
        "print('==============================')\n",
        "data_lin = [[0,1,100],[1,2,100],[0,2,100]]\n",
        "nl = len(data_lin)\n",
        "lin = pd.DataFrame(data_lin,index=['l'+str(i) for i in range(nl)],columns=['from','to','cap'])\n",
        "print(lin)\n",
        "\n",
        "print('==============================')\n",
        "print('  Sulphur-Flow Battery Data   ')\n",
        "print('==============================')\n",
        "data_bat = [[1,0,100,24]]\n",
        "nb = len(data_bat)\n",
        "b = pd.DataFrame(data_bat,index=['b'+str(i) for i in range(nb)],columns=['bus','min','max','b_c'])\n",
        "print(b)\n",
        "\n",
        "print('==============================')\n",
        "print('        Renewable Data        ')\n",
        "print('==============================')\n",
        "data_ren = [[1,0,150,0]]\n",
        "nw = len(data_ren)\n",
        "ren = pd.DataFrame(data_ren,index=['w'+str(i) for i in range(nw)],columns=['bus','min','max','o_cost'])\n",
        "print(ren)\n",
        "\n",
        "print('==============================')\n",
        "print('       Load Demand Data       ')\n",
        "print('==============================')\n",
        "data_dem = [[2,100]]\n",
        "nd = len(data_dem)\n",
        "dem = pd.DataFrame(data_dem,index=['d'+str(i) for i in range(nd)],columns=['bus','max'])\n",
        "print(dem)\n",
        "\n",
        "print('==============================')\n",
        "print('    Hourly Demand and Renewable Data   ')\n",
        "print('==============================')\n",
        "h_data = pd.read_csv('https://raw.githubusercontent.com/sanaz-mahmoudi/sanazmahmoudi/refs/heads/main/Hourly%20Profiles.csv')\n",
        "\n",
        "# Extract Days, Hours, Renewable Production, Consumption\n",
        "h_data['day']  = h_data['Time'].str.split('T').str[0].str[-2:]\n",
        "h_data['hour'] = h_data['Time'].str.split('T').str[1].str[:2]\n",
        "h_data['prod'] = h_data['Normalised Renewable Production Profile']\n",
        "h_data['cons'] = h_data['Normalised Electricity Consumption Profile']\n",
        "\n",
        "# Create DataFrame for Hourly Demand\n",
        "h_dem_b = pd.DataFrame(np.outer(h_data['cons'].values, dem['max'].values), columns=dem['bus'])   # Determine the Hourly Demand Profile of each Bus\n",
        "h_dem_b['day']  = h_data['day'].values   # Add day from h_data\n",
        "h_dem_b['hour'] = h_data['hour'].values  # Add hour from h_data\n",
        "\n",
        "# Melt into long format\n",
        "final_df = h_dem.melt(id_vars=['day', 'hour'], var_name='bus', value_name='dem')\n",
        "\n",
        "# Show result\n",
        "print(final_df.head(10))\n",
        "\n",
        "\n",
        "# Select the columns you want to keep (Time, Day, Hour, and the 2nd column)\n",
        "#h_data_cols = ['day', 'hour', 'prod']\n",
        "\n",
        "#h_data1 = dem['max']*h_data[h_data_cols]\n",
        "\n",
        "#print(h_data1)\n",
        "\n",
        "\n",
        "\n"
      ],
      "metadata": {
        "colab": {
          "base_uri": "https://localhost:8080/"
        },
        "id": "MFgL7jEntZ1J",
        "outputId": "4495a4b5-5beb-4cea-dd0c-ec9cb8915aa4"
      },
      "execution_count": 91,
      "outputs": [
        {
          "output_type": "stream",
          "name": "stdout",
          "text": [
            "==============================\n",
            "   Thermal Power Plant Data   \n",
            "==============================\n",
            "    bus  min  max  o_cost\n",
            "g0    0    0  250      50\n",
            "==============================\n",
            "          Line Data           \n",
            "==============================\n",
            "    from  to  cap\n",
            "l0     0   1  100\n",
            "l1     1   2  100\n",
            "l2     0   2  100\n",
            "==============================\n",
            "  Sulphur-Flow Battery Data   \n",
            "==============================\n",
            "    bus  min  max  b_c\n",
            "b0    1    0  100   24\n",
            "==============================\n",
            "        Renewable Data        \n",
            "==============================\n",
            "    bus  min  max  o_cost\n",
            "w0    1    0  150       0\n",
            "==============================\n",
            "       Load Demand Data       \n",
            "==============================\n",
            "    bus  max\n",
            "d0    2  100\n",
            "==============================\n",
            "    Hourly Demand and Renewable Data   \n",
            "==============================\n",
            "  day hour bus   capacity\n",
            "0  01   00   2  19.199484\n",
            "1  01   01   2  15.553450\n",
            "2  01   02   2  10.650177\n",
            "3  01   03   2   7.848147\n",
            "4  01   04   2   7.711271\n",
            "5  01   05   2   8.291220\n",
            "6  01   06   2  14.255931\n",
            "7  01   07   2  19.825680\n",
            "8  01   08   2  28.549904\n",
            "9  01   09   2  41.114472\n"
          ]
        }
      ]
    },
    {
      "cell_type": "markdown",
      "source": [
        "## PYOMO + GLPK (link)"
      ],
      "metadata": {
        "id": "HEL87ZFY897L"
      }
    },
    {
      "cell_type": "markdown",
      "source": [
        "### *Requirements*"
      ],
      "metadata": {
        "id": "qbuob69prGH0"
      }
    },
    {
      "cell_type": "code",
      "source": [
        "# PYOMO\n",
        "!pip install -q pyomo\n",
        "import pyomo.environ as pe\n",
        "\n",
        "# GLPK\n",
        "!apt-get install -y -qq glpk-utils\n",
        "glpk = pe.SolverFactory('glpk', executable='/usr/bin/glpsol')\n",
        "\n",
        "# OTHER\n",
        "import pandas as pd"
      ],
      "metadata": {
        "colab": {
          "base_uri": "https://localhost:8080/"
        },
        "id": "w5ao61aLrOBL",
        "outputId": "360d3919-a74c-4e1d-bda1-210567b9d474"
      },
      "execution_count": null,
      "outputs": [
        {
          "output_type": "stream",
          "name": "stdout",
          "text": [
            "Requirement already satisfied: pyomo in /usr/local/lib/python3.11/dist-packages (6.9.2)\n",
            "Requirement already satisfied: ply in /usr/local/lib/python3.11/dist-packages (from pyomo) (3.11)\n"
          ]
        }
      ]
    }
  ]
}